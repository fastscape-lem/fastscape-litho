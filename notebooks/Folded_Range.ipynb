{
 "cells": [
  {
   "cell_type": "markdown",
   "id": "international-browser",
   "metadata": {},
   "source": [
    "# Example notebook for 3D lithology\n",
    "\n",
    "In this example notebook, we show how to quickly create a 3D lithologic bloc of folded layers, uplift it within fastscape and monitor the output.\n",
    "\n",
    "## Importing the model\n",
    "\n",
    "The first step is to import the modules related to the model and the visualisation packages. Here we use xsimlab and matplotlib"
   ]
  },
  {
   "cell_type": "code",
   "execution_count": 2,
   "id": "d556cf4d-0b4e-4961-a6a2-b64b5c7ce677",
   "metadata": {},
   "outputs": [],
   "source": [
    "import fastscape_litho as fstl\n",
    "import fastscape\n",
    "import numpy as np\n",
    "import xsimlab as xs\n",
    "import matplotlib.pyplot as plt\n",
    "import zarr\n",
    "import random\n",
    "%matplotlib widget\n",
    "%load_ext xsimlab.ipython"
   ]
  },
  {
   "cell_type": "markdown",
   "id": "806e7d71-fa21-442e-a8d2-678835937154",
   "metadata": {},
   "source": [
    "## Preloading a model\n",
    "\n",
    "We preload the sediment model adapted to have the 3D lithologic block. We also add the Quick Topographic Analysis toolkit."
   ]
  },
  {
   "cell_type": "code",
   "execution_count": 3,
   "id": "86b29556-bca2-41e1-bd82-8f2c74203a6d",
   "metadata": {},
   "outputs": [],
   "source": [
    "mymod = fstl.sediment_model_label3D.update_processes({\"TA\": fstl.QuickTA}) # full model"
   ]
  },
  {
   "cell_type": "markdown",
   "id": "exterior-communications",
   "metadata": {},
   "source": [
    "## Setting up the geometry of the cube\n",
    "\n",
    "This section sets up the geometry of the 3D matrix. It designs the x,y, and z coordinates as well as the resolution."
   ]
  },
  {
   "cell_type": "code",
   "execution_count": 4,
   "id": "institutional-plane",
   "metadata": {},
   "outputs": [],
   "source": [
    "# Number of row, cols\n",
    "ny,nx = 200,200\n",
    "# length in x and y directions\n",
    "ly,lx = 5e4,5e4\n",
    "# Number of discretise boxes in Z\n",
    "nz = 2000\n",
    "# Resolution in Z\n",
    "dz = 10\n",
    "# Creating an empty 3D matrix and initialising it to 0\n",
    "zz = np.arange(0,nz*dz,dz) # Intermediate coordinate for later calculations\n",
    "xz = np.zeros((nz,nx)) # Intermediate coordinate for later calculations\n",
    "labmat = np.zeros((ny,nx,nz), dtype = np.int8) # Data type np.int8 is an memory optimisation. Each cube takes 1 byte/8 bits of memory (-128 to 127)"
   ]
  },
  {
   "cell_type": "markdown",
   "id": "progressive-electronics",
   "metadata": {},
   "source": [
    "## Setting up a \"geology\"\n",
    "\n",
    "Bellow, we generate a fake folded landscape. Note that this is for the sake of demonstrating the capacity of the module, and this cross-section is not tuned to be geologically relevant, but \"reasonably realistic-looking\" (i.e. just for fun). \n",
    "\n",
    "We are using a sin wave, with a,b,c,d parameter controlling the width, shift, ... and some thickness param. At some point we will make some parametrisable landscapes for MC analysis of shapes, and some bridges with `gempy` for more realistic cases."
   ]
  },
  {
   "cell_type": "code",
   "execution_count": 6,
   "id": "extensive-aviation",
   "metadata": {},
   "outputs": [
    {
     "data": {
      "application/vnd.jupyter.widget-view+json": {
       "model_id": "f7ebe39fe9794b19b0575147fb47e82d",
       "version_major": 2,
       "version_minor": 0
      },
      "text/plain": [
       "Canvas(toolbar=Toolbar(toolitems=[('Home', 'Reset original view', 'home', 'home'), ('Back', 'Back to previous …"
      ]
     },
     "metadata": {},
     "output_type": "display_data"
    },
    {
     "data": {
      "text/plain": [
       "Text(0, 0.5, 'X (m)')"
      ]
     },
     "execution_count": 6,
     "metadata": {},
     "output_type": "execute_result"
    }
   ],
   "source": [
    "#Setting arbitrary parameters\n",
    "a = 0.1\n",
    "b = 100\n",
    "c = 300\n",
    "d = 150\n",
    "# Thickness of each layer **IN NUMBERS OF ROW** \n",
    "thisckness = 200\n",
    "# Building a 2D cross section in X Z coordinate\n",
    "for i in range(nx):\n",
    "    tz = d * np.cos(a * (i + b)) + c\n",
    "    tz = round(tz)\n",
    "    xz[tz:,i] = 1\n",
    "    tid = 2\n",
    "    rand = 0\n",
    "    for j in range(80):\n",
    "        tz = d * np.cos(a * (i + b)) + c + thisckness * j\n",
    "        tz = round(tz)\n",
    "        xz[tz:,i] = tid\n",
    "        tid+=1\n",
    "        if(tid == 3):\n",
    "            tid = 0\n",
    "            \n",
    "#Expanding it through the whole\n",
    "for i in range(nx):\n",
    "    labmat[:,i,:] = np.transpose(xz)\n",
    "    \n",
    "# Plotting a cross section in XZ to check\n",
    "fig,ax = plt.subplots(figsize = (6,6))\n",
    "ax.imshow(labmat[:,10,:], extent = [zz.min(), zz.max(), 0,ly, ], aspect = 'auto', cmap = 'terrain') \n",
    "ax.grid()\n",
    "ax.set_xlabel(\"Depth (m)\")\n",
    "ax.set_ylabel(\"X (m)\")\n"
   ]
  },
  {
   "cell_type": "markdown",
   "id": "engaging-armstrong",
   "metadata": {},
   "source": [
    "## Setting up Process-specific parameters\n",
    "\n",
    "We need to give values for the global parameters (e.g. m,n,G,...) and for teh label specific parameters. These are under the form of a 1D array where the indice is the label and the value the param. Note that the last value will be the default one if the block is totally eroded."
   ]
  },
  {
   "cell_type": "code",
   "execution_count": 7,
   "id": "phantom-technology",
   "metadata": {},
   "outputs": [],
   "source": [
    "# The stream power law exponents\n",
    "m,n = 0.45,1\n",
    "# The flow exponent (see https://fastscape.org/fastscapelib-fortran/#_fastscape_set_erosional_parameters parameter p for explanations)\n",
    "flowexp = 7\n",
    "# Fluvial erodibility of sediments\n",
    "Ksoil = 5e-4\n",
    "# Fluvial deposition\n",
    "G_r = 0.1\n",
    "G_s = 0.2\n",
    "\n",
    "# Uplift field \n",
    "Up = np.full( (ny,nx) , 1e-3 )\n",
    "\n",
    "# Array of rock-specific params:\n",
    "## Bedrock fluvial K\n",
    "Krs = np.array([1e-4,2e-4, 0.6e-4, 1e-4]) * 0.2\n",
    "## Bedrock Hillslope K\n",
    "Kdrs = np.array([1e-1,2e-1, 0.6e-1,1e-1]) * 2\n",
    "## Sediment Hillslope K\n",
    "Kdss = Kdrs * 1.3 * 0.2\n",
    "\n",
    "# Timy wimy stuff\n",
    "dt = 1e4 # time step of 10,000 years\n",
    "time = np.arange(0,2e7,dt) # Running for 20 millions years\n",
    "otime = time[::5] # outputting every 5 time steps"
   ]
  },
  {
   "cell_type": "markdown",
   "id": "dressed-cedar",
   "metadata": {},
   "source": [
    "## Setting up the Xsimlab fastscape model\n",
    "See xsimlab documetnation for details. Here I am outputting the elevation, erosion field, indicies at surface (= \"geological map\"), drainage area, ksn, and few drainage divide monitoring indices."
   ]
  },
  {
   "cell_type": "code",
   "execution_count": 8,
   "id": "micro-samoa",
   "metadata": {},
   "outputs": [],
   "source": [
    "# %create_setup mymod\n",
    "import xsimlab as xs\n",
    "\n",
    "ds_in = xs.create_setup(\n",
    "    model=mymod,\n",
    "        clocks={\n",
    "        'time':time,\n",
    "        'otime':otime,\n",
    "    },\n",
    "    master_clock= 'time',\n",
    "    input_vars={\n",
    "        # The grid extent in number of cells \n",
    "        'grid__shape': [ny,nx],\n",
    "        # the grid length in meter (full length)\n",
    "        'grid__length': [ly,lx],\n",
    "        #Boundary status EWNS. Looped = periodic\n",
    "        'boundary__status': ['looped', 'looped', 'fixed_value', 'fixed_value'],\n",
    "        # Uplift rate\n",
    "        'uplift__rate': Up,\n",
    "        # Random seed for terrain generation (-> a constant number + grid shape will always produce the same initial terrain)\n",
    "        'init_topography__seed': 21,\n",
    "        # Exponent for Multiple Flow (/!\\ carefull, the TA based on chi are not really accurate with Multiple Flow)\n",
    "        'flow__slope_exp': flowexp,\n",
    "        # m exponent of the SPL\n",
    "        'spl__area_exp': m,\n",
    "        # n exponent of the SPL\n",
    "        'spl__slope_exp': n,\n",
    "        #K for soft sediments\n",
    "        'spl__k_coef_soil': Ksoil,\n",
    "        #K G for bedrock\n",
    "        'spl__g_coef_bedrock': G_r,\n",
    "        #K G for soil\n",
    "        'spl__g_coef_soil': G_s,\n",
    "        # Depth resolution\n",
    "        'label__dz': dz,\n",
    "        # Depth origin\n",
    "        'label__origin_z': 0,\n",
    "        # 3D matrice of geology\n",
    "        'label__labelmatrix': labmat,\n",
    "        # label2K4bedrock\n",
    "        'spl__Kr_lab': Krs,\n",
    "        # label2K4hillslope (soil)\n",
    "        'diffusion__Kdr_lab': Kdrs,\n",
    "        # label2K4hillslope (bedrock)\n",
    "        'diffusion__Kds_lab': Kdss, \n",
    "        # Theta_ref for topographic analysis\n",
    "        'TA__theta_chi': m/n,\n",
    "        # !_0 for chi extraction \n",
    "        'TA__A_0_chi': 1,\n",
    "        # Threshold for river extraction\n",
    "        'TA__minAcc': 1e4,\n",
    "        # Path for saving river profile data (/!\\ The folder need to exists!)\n",
    "        'TA__output_prefix': './test_output_csv/Folded',\n",
    "        # Specific parameter for drainage divide analysis\n",
    "        'TA__main_divide_contrast_distance': 2000,\n",
    "    },\n",
    "    output_vars={\n",
    "        # Topo\n",
    "        'topography__elevation': 'otime',\n",
    "        # A\n",
    "        'drainage__area' : 'otime',\n",
    "        # \"geological map\"\n",
    "        'label__indices': 'otime',\n",
    "        # k_sn\n",
    "        'TA__ksnSA': 'otime',\n",
    "        # E\n",
    "        'erosion__rate' : 'otime',\n",
    "        # Rough proxy for drainage divide migration rate\n",
    "        'TA__main_drainage_divides_migration_index': 'otime',\n",
    "        # Centrail main divide\n",
    "        'TA__main_divide': 'otime',\n",
    "        \n",
    "    }\n",
    ")"
   ]
  },
  {
   "cell_type": "markdown",
   "id": "still-chicken",
   "metadata": {},
   "source": [
    "## Running the model\n",
    "\n",
    "As the title suggests, runs the model"
   ]
  },
  {
   "cell_type": "code",
   "execution_count": 9,
   "id": "afraid-hometown",
   "metadata": {},
   "outputs": [
    {
     "data": {
      "application/vnd.jupyter.widget-view+json": {
       "model_id": "e42e733be9c54554b3b207fea131397b",
       "version_major": 2,
       "version_minor": 0
      },
      "text/plain": [
       "             0% | initialize "
      ]
     },
     "metadata": {},
     "output_type": "display_data"
    }
   ],
   "source": [
    "with mymod, xs.monitoring.ProgressBar():\n",
    "#     out_ds = ds_in.xsimlab.run(store=zarr.TempStore())\n",
    "    out_ds = ds_in.xsimlab.run()"
   ]
  },
  {
   "cell_type": "markdown",
   "id": "favorite-professor",
   "metadata": {},
   "source": [
    "## Using `ipyfastscape` to monitor the output in 3D\n",
    "\n",
    "This package visualises the thingy in 3D. See [here](https://github.com/fastscape-lem/ipyfastscape) for details about installation"
   ]
  },
  {
   "cell_type": "code",
   "execution_count": 10,
   "id": "simple-shoot",
   "metadata": {},
   "outputs": [
    {
     "data": {
      "application/vnd.jupyter.widget-view+json": {
       "model_id": "dc33a5552fe246a9a42568eb12ed27fd",
       "version_major": 2,
       "version_minor": 0
      },
      "text/plain": [
       "Output(layout=Layout(height='640px'))"
      ]
     },
     "metadata": {},
     "output_type": "display_data"
    }
   ],
   "source": [
    "from ipyfastscape import TopoViz3d,AppLinker\n",
    "app2 = TopoViz3d(out_ds.load(), canvas_height=600, time_dim='otime')\n",
    "app2.show()\n"
   ]
  },
  {
   "cell_type": "markdown",
   "id": "meaningful-duplicate",
   "metadata": {},
   "source": [
    "## Few quick figures to monitor the Drainage Divide and other outputs\n",
    "\n",
    "Basically just using few of the model capacities to extract some metrics! \n",
    "\n",
    "### First a figure showing in red the median/quartiles erosion rate and in gray the \"naive\" extraction of $k_{sn}$\n"
   ]
  },
  {
   "cell_type": "code",
   "execution_count": 11,
   "id": "exclusive-latest",
   "metadata": {},
   "outputs": [
    {
     "data": {
      "application/vnd.jupyter.widget-view+json": {
       "model_id": "db7acef20cb54934b014333229c00e9e",
       "version_major": 2,
       "version_minor": 0
      },
      "text/plain": [
       "Canvas(toolbar=Toolbar(toolitems=[('Home', 'Reset original view', 'home', 'home'), ('Back', 'Back to previous …"
      ]
     },
     "metadata": {},
     "output_type": "display_data"
    }
   ],
   "source": [
    "X = out_ds['otime'].values\n",
    "Y = []\n",
    "Y_1st = []\n",
    "Y_3rd = []\n",
    "ErrY = []\n",
    "ErrY_1st = []\n",
    "ErrY_3rd = []\n",
    "for i in range(out_ds.otime.values.shape[0]):\n",
    "    Y.append(np.median(out_ds[\"TA__ksnSA\"].values[i][out_ds[\"TA__ksnSA\"].values[i]>0]))\n",
    "    Y_1st.append(np.percentile(out_ds[\"TA__ksnSA\"].values[i][out_ds[\"TA__ksnSA\"].values[i]>0], 25))\n",
    "    Y_3rd.append(np.percentile(out_ds[\"TA__ksnSA\"].values[i][out_ds[\"TA__ksnSA\"].values[i]>0], 75))\n",
    "    ErrY.append(np.median(out_ds[\"erosion__rate\"].values[i][out_ds[\"TA__ksnSA\"].values[i]>0]))\n",
    "    ErrY_1st.append(np.percentile(out_ds[\"erosion__rate\"].values[i][out_ds[\"TA__ksnSA\"].values[i]>0], 25))\n",
    "    ErrY_3rd.append(np.percentile(out_ds[\"erosion__rate\"].values[i][out_ds[\"TA__ksnSA\"].values[i]>0], 75))\n",
    "\n",
    "\n",
    "fig, ax = plt.subplots(figsize = (7,6))\n",
    "ax.set_facecolor('k')\n",
    "ax.plot(X,Y, color = 'w', lw = 1.5)\n",
    "ax.fill_between(X,Y_1st,Y_3rd, color = 'w', alpha = 0.5, lw = 0)\n",
    "\n",
    "\n",
    "ax2 = ax.twinx()\n",
    "ax2.plot(X,ErrY, color = 'r', lw = 1.5)\n",
    "ax2.fill_between(X,ErrY_1st,ErrY_3rd, color = 'r', alpha = 0.5, lw = 0)\n",
    "ax2.set_ylim(0.1e-3,2e-3)\n",
    "ax.set_ylim(0,80)\n",
    "ax2.set_ylim(0.75e-3,1.25e-3)\n",
    "ax.grid(ls = '--')\n",
    "\n",
    "ax.set_xlabel(\"Time (yrs)\")\n",
    "ax.set_ylabel(r\"$k_{sn}$ ($m^{2\\theta}$)\")\n",
    "ax2.set_ylabel(r\"Erosion rate $m.yrs^{-1}$\")\n",
    "plt.tight_layout()"
   ]
  },
  {
   "cell_type": "markdown",
   "id": "overhead-senate",
   "metadata": {},
   "source": [
    "### Then an approximation of drainage divide migration (Number of pixel becoming drainage divide compared to previous step)"
   ]
  },
  {
   "cell_type": "code",
   "execution_count": 12,
   "id": "lined-halifax",
   "metadata": {},
   "outputs": [
    {
     "data": {
      "application/vnd.jupyter.widget-view+json": {
       "model_id": "00d53a8fff5a47209e56bad789631f1d",
       "version_major": 2,
       "version_minor": 0
      },
      "text/plain": [
       "Canvas(toolbar=Toolbar(toolitems=[('Home', 'Reset original view', 'home', 'home'), ('Back', 'Back to previous …"
      ]
     },
     "metadata": {},
     "output_type": "display_data"
    },
    {
     "data": {
      "text/plain": [
       "Text(0, 0.5, 'N pixels migrating')"
      ]
     },
     "execution_count": 12,
     "metadata": {},
     "output_type": "execute_result"
    }
   ],
   "source": [
    "import scipy.stats as stats\n",
    "import helplotlib as hpl\n",
    "\n",
    "step = 1e5\n",
    "fig, ax = hpl.mkfig_grey_bold(figsize = (6,5))\n",
    "\n",
    "ax.scatter(out_ds.otime.values[:], out_ds.TA__main_drainage_divides_migration_index.values,lw = 0, c = \"grey\",s = 4)\n",
    "\n",
    "X = np.arange(out_ds.otime.values.min(), out_ds.otime.values.max(), step)\n",
    "migID = out_ds.TA__main_drainage_divides_migration_index.values\n",
    "migID[np.isnan(migID)] = 0\n",
    "Y = stats.binned_statistic(out_ds.otime.values, out_ds.TA__main_drainage_divides_migration_index.values, statistic = np.median, bins=X)[0]\n",
    "ax.plot(X[:-1]/2 + X[1:] / 2,Y, c = 'k', lw = 2)\n",
    "\n",
    "ax.set_ylim(10,125)\n",
    "ax.set_xlabel(\"Time (years)\")\n",
    "ax.set_ylabel(\"N pixels migrating\")"
   ]
  },
  {
   "cell_type": "markdown",
   "id": "closed-egyptian",
   "metadata": {},
   "source": [
    "### Finally, Sediment fluxes escaping the model from the North, vs from the South"
   ]
  },
  {
   "cell_type": "code",
   "execution_count": 20,
   "id": "computational-wrestling",
   "metadata": {},
   "outputs": [
    {
     "data": {
      "application/vnd.jupyter.widget-view+json": {
       "model_id": "fddda1fec81046f297007e6b81dfc965",
       "version_major": 2,
       "version_minor": 0
      },
      "text/plain": [
       "Canvas(toolbar=Toolbar(toolitems=[('Home', 'Reset original view', 'home', 'home'), ('Back', 'Back to previous …"
      ]
     },
     "metadata": {},
     "output_type": "display_data"
    },
    {
     "data": {
      "text/plain": [
       "(900000.0, 1600000.0)"
      ]
     },
     "execution_count": 20,
     "metadata": {},
     "output_type": "execute_result"
    }
   ],
   "source": [
    "flux_N = []\n",
    "flux_S = []\n",
    "cellarea = ly/(ny-1) * lx/(nx-1)\n",
    "for t in out_ds.otime.values:\n",
    "    mask_N = out_ds[\"TA__main_divide\"].sel({'otime': t}).values == 3\n",
    "    flux_N.append(out_ds[\"erosion__rate\"].sel({'otime': t}).values[mask_N])\n",
    "    flux_S.append(out_ds[\"erosion__rate\"].sel({'otime': t}).values[mask_N==False])\n",
    "    flux_N[-1] = np.nansum(flux_N[-1]) * cellarea\n",
    "    flux_S[-1] = np.nansum(flux_S[-1]) * cellarea\n",
    "#     print(flux_N[-1].shape[0],flux_S[-1].shape[0])\n",
    "#     print(flux_N[-1],flux_S[-1])\n",
    "\n",
    "    \n",
    "fig, ax = hpl.mkfig_grey_bold(figsize = (6,5))\n",
    "ax.plot(out_ds.otime.values,flux_N, color = \"red\", label = \"N\")\n",
    "ax.plot(out_ds.otime.values,flux_S, color = \"blue\", label = \"S\")\n",
    "ax.set_xlabel(\"Time (years)\")\n",
    "ax.set_ylabel(\"$Q_s^{out}$ in $m^3$\")\n",
    "# ax.set_yscale('log')\n",
    "ax.legend()\n",
    "ax.set_ylim(9e5,1.6e6)"
   ]
  },
  {
   "cell_type": "code",
   "execution_count": null,
   "id": "smart-software",
   "metadata": {},
   "outputs": [],
   "source": []
  },
  {
   "cell_type": "code",
   "execution_count": null,
   "id": "dried-adoption",
   "metadata": {},
   "outputs": [],
   "source": []
  }
 ],
 "metadata": {
  "kernelspec": {
   "display_name": "Python 3",
   "language": "python",
   "name": "python3"
  },
  "language_info": {
   "codemirror_mode": {
    "name": "ipython",
    "version": 3
   },
   "file_extension": ".py",
   "mimetype": "text/x-python",
   "name": "python",
   "nbconvert_exporter": "python",
   "pygments_lexer": "ipython3",
   "version": "3.8.8"
  }
 },
 "nbformat": 4,
 "nbformat_minor": 5
}
