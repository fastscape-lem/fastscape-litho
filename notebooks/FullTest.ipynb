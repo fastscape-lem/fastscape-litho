{
 "cells": [
  {
   "cell_type": "code",
   "execution_count": 1,
   "id": "attractive-updating",
   "metadata": {},
   "outputs": [],
   "source": [
    "import fastscape_litho as fstl\n",
    "import fastscape\n",
    "import numpy as np\n",
    "import xsimlab as xs\n",
    "import matplotlib.pyplot as plt\n",
    "import zarr\n",
    "%matplotlib widget\n",
    "%load_ext xsimlab.ipython\n",
    "\n",
    "mymod = fstl.sediment_model_label3D_SPL.update_processes({'flow': fastscape.processes.SingleFlowRouter, \"TA\": fstl.Quicksn})# just SPL\n",
    "# mymod = fstl.sediment_model_label3D # full model"
   ]
  },
  {
   "cell_type": "code",
   "execution_count": 2,
   "id": "damaged-pittsburgh",
   "metadata": {},
   "outputs": [],
   "source": [
    "ny,nx = 200,200\n",
    "ly,lx = 2e4,2e4\n",
    "m,n = 0.45,1.11\n",
    "flowexp = 7\n",
    "Ksoil = 5e-4\n",
    "\n",
    "nz = 300\n",
    "dz = 70\n",
    "\n",
    "G_r = 0.01\n",
    "G_s = 0.1\n",
    "\n",
    "Up = np.full( (ny,nx) , 1e-3 )\n",
    "labmat = np.zeros((ny,nx,nz), dtype = np.int8)\n",
    "# labmat[50:150,50:150,30:] = 1\n",
    "\n",
    "Krs = np.array([2e-4,1e-4, 0.6e-4, 1e-4]) * 0.13\n",
    "Kdrs = np.array([2e-2,1e-2, 0.6e-2,1e-2]) * 0.13\n",
    "Kdss = Kdrs * 1.3 * 0.2\n",
    "\n",
    "dt = 1e4\n",
    "time = np.arange(0,2e7,dt)\n",
    "otime = time[::5]\n"
   ]
  },
  {
   "cell_type": "code",
   "execution_count": 3,
   "id": "falling-municipality",
   "metadata": {},
   "outputs": [
    {
     "data": {
      "application/vnd.jupyter.widget-view+json": {
       "model_id": "dcb0d503e3b64b92bc0fd3db24e7a04f",
       "version_major": 2,
       "version_minor": 0
      },
      "text/plain": [
       "Canvas(toolbar=Toolbar(toolitems=[('Home', 'Reset original view', 'home', 'home'), ('Back', 'Back to previous …"
      ]
     },
     "metadata": {},
     "output_type": "display_data"
    },
    {
     "data": {
      "text/plain": [
       "<matplotlib.image.AxesImage at 0x7f90b8953790>"
      ]
     },
     "execution_count": 3,
     "metadata": {},
     "output_type": "execute_result"
    }
   ],
   "source": [
    "xz = np.zeros((nz,nx))\n",
    "a = 0.05\n",
    "b = 100\n",
    "c = 130\n",
    "d = 80\n",
    "thisckness = 60\n",
    "for i in range(nx):\n",
    "    tz = d * np.cos(a * (i + b)) + c\n",
    "    tz = round(tz)\n",
    "    xz[tz:,i] = 1\n",
    "    tz = d * np.cos(a * (i + b)) + c + thisckness\n",
    "    tz = round(tz)\n",
    "    xz[tz:,i] = 2\n",
    "\n",
    "\n",
    "\n",
    "\n",
    "for i in range(nx):\n",
    "    labmat[:,i,:] = np.rot90(xz)\n",
    "    \n",
    "fig,ax = plt.subplots(figsize = (6,6))\n",
    "ax.imshow(labmat[:,50,:])    "
   ]
  },
  {
   "cell_type": "code",
   "execution_count": 4,
   "id": "tribal-blade",
   "metadata": {},
   "outputs": [],
   "source": [
    "# %create_setup mymod\n",
    "import xsimlab as xs\n",
    "\n",
    "# SPL model\n",
    "ds_in = xs.create_setup(\n",
    "    model=mymod,\n",
    "        clocks={\n",
    "        'time':time,\n",
    "        'otime':otime,\n",
    "    },\n",
    "    master_clock= 'time',\n",
    "    input_vars={\n",
    "        'grid__shape': [ny,nx],\n",
    "        'grid__length': [ly,lx],\n",
    "        'boundary__status': ['looped', 'looped', 'fixed_value', 'fixed_value'],\n",
    "        'uplift__rate': Up,\n",
    "        'init_topography__seed': 21,\n",
    "#         'flow__slope_exp': flowexp,\n",
    "        'spl__area_exp': m,\n",
    "        'spl__slope_exp': n,\n",
    "        'label__dz': dz,\n",
    "        'label__origin_z': 0,\n",
    "        'label__labelmatrix': labmat,\n",
    "        'label__k_lab': Krs,\n",
    "        'TA__theta_chi': m/n,\n",
    "        'TA__A_0_chi': 1,\n",
    "        'TA__minAcc': 1e5\n",
    "    },\n",
    "    output_vars={\n",
    "        'topography__elevation': 'otime',\n",
    "        'drainage__area' : 'otime',\n",
    "        'label__indices': 'otime',\n",
    "        'TA__chi': 'otime',\n",
    "        'TA__ksn': 'otime'\n",
    "    }\n",
    ")\n",
    "\n",
    "#Full model\n",
    "# %create_setup mymod\n",
    "\n",
    "\n",
    "# ds_in = xs.create_setup(\n",
    "#     model=mymod,\n",
    "#     clocks={\n",
    "#         'time':time,\n",
    "#         'otime':otime,\n",
    "#     },\n",
    "#     input_vars={\n",
    "#         'grid__shape': [ny,nx],\n",
    "#         'grid__length': [ly,lx],\n",
    "#         'boundary__status': ['looped', 'looped', 'fixed_value', 'fixed_value'],\n",
    "#         'uplift__rate': Up,\n",
    "#         'init_topography__seed': 21,\n",
    "#         'flow__slope_exp': flowexp,\n",
    "#         'spl__area_exp': n,\n",
    "#         'spl__slope_exp': m,\n",
    "#         'spl__k_coef_soil': Ksoil,\n",
    "#         'spl__g_coef_bedrock': 0.01,\n",
    "#         'spl__g_coef_soil': 0.1,\n",
    "#         'label__dz': dz,\n",
    "#         'label__origin_z': 0,\n",
    "#         'label__labelmatrix': labmat,\n",
    "#         'label__Kr_lab': Krs,\n",
    "#         'label__Kdr_lab': Kdrs,\n",
    "#         'label__Kds_lab': Kdss,\n",
    "#         'label__infiltration_lab': Krs,\n",
    "#     },\n",
    "#     master_clock = 'time',\n",
    "#     output_vars={\n",
    "#         'topography__elevation': 'otime',\n",
    "#         'drainage__area' : 'otime',\n",
    "#         'label__indices': 'otime'\n",
    "#     }\n",
    "# )\n",
    "\n"
   ]
  },
  {
   "cell_type": "code",
   "execution_count": null,
   "id": "mathematical-forty",
   "metadata": {},
   "outputs": [],
   "source": []
  },
  {
   "cell_type": "code",
   "execution_count": null,
   "id": "placed-brain",
   "metadata": {},
   "outputs": [
    {
     "data": {
      "application/vnd.jupyter.widget-view+json": {
       "model_id": "edc8584984fe4a809901eaf0a58b01dd",
       "version_major": 2,
       "version_minor": 0
      },
      "text/plain": [
       "             0% | initialize "
      ]
     },
     "metadata": {},
     "output_type": "display_data"
    }
   ],
   "source": [
    "with mymod, xs.monitoring.ProgressBar():\n",
    "    out_ds = ds_in.xsimlab.run(store=zarr.TempStore())"
   ]
  },
  {
   "cell_type": "code",
   "execution_count": null,
   "id": "electrical-student",
   "metadata": {},
   "outputs": [],
   "source": [
    "from ipyfastscape import TopoViz3d\n",
    "app = TopoViz3d(out_ds, canvas_height=600,time_dim='otime')\n",
    "app.show()"
   ]
  },
  {
   "cell_type": "code",
   "execution_count": null,
   "id": "polyphonic-arabic",
   "metadata": {},
   "outputs": [],
   "source": []
  }
 ],
 "metadata": {
  "kernelspec": {
   "display_name": "Python 3",
   "language": "python",
   "name": "python3"
  },
  "language_info": {
   "codemirror_mode": {
    "name": "ipython",
    "version": 3
   },
   "file_extension": ".py",
   "mimetype": "text/x-python",
   "name": "python",
   "nbconvert_exporter": "python",
   "pygments_lexer": "ipython3",
   "version": "3.7.9"
  }
 },
 "nbformat": 4,
 "nbformat_minor": 5
}
